{
 "cells": [
  {
   "cell_type": "code",
   "execution_count": 12,
   "metadata": {},
   "outputs": [
    {
     "name": "stdout",
     "output_type": "stream",
     "text": [
      "e => 4\n",
      "f => 1\n",
      "g => 2\n",
      "k => 2\n",
      "o => 1\n",
      "r => 1\n",
      "s => 2\n"
     ]
    }
   ],
   "source": [
    "#finding count of each alphabet, print in alphabetical order\n",
    "a='geeksforgeeks'\n",
    "\n",
    "def freq(a):\n",
    "    hash_count={}\n",
    "    for i in range(1,27):\n",
    "        hash_count[i]=0\n",
    "    for i in a:\n",
    "        hash_count[ord(i)-96]+=1\n",
    "    for i in hash_count.keys():\n",
    "        if hash_count[i]!=0:\n",
    "            print(chr(96+i),'=>',hash_count[i])\n",
    "            \n",
    "freq(a)    \n",
    "    \n",
    "        "
   ]
  },
  {
   "cell_type": "code",
   "execution_count": 14,
   "metadata": {},
   "outputs": [
    {
     "name": "stdout",
     "output_type": "stream",
     "text": [
      "string is not a pallindrome\n"
     ]
    }
   ],
   "source": [
    "#Pallindrome check\n",
    "a='ABBAG'\n",
    "def pal_check(a):\n",
    "    flag=0\n",
    "    for i in range(0,len(a)//2-1):\n",
    "        if a[i]!=a[len(a)-1-i]:\n",
    "            flag=1\n",
    "            break\n",
    "    if flag==0:\n",
    "        print('string is pallindrome')\n",
    "    else:\n",
    "        print('string is not a pallindrome')\n",
    "        \n",
    "pal_check(a)\n",
    "    "
   ]
  },
  {
   "cell_type": "code",
   "execution_count": 27,
   "metadata": {},
   "outputs": [
    {
     "name": "stdout",
     "output_type": "stream",
     "text": [
      "not subsequence\n"
     ]
    }
   ],
   "source": [
    "#string is subsequence or not\n",
    "a='ABBAG'\n",
    "sub='AAG'\n",
    "def is_subseq(a,sub):\n",
    "    si=0\n",
    "    ssi=0\n",
    "    n=len(a)\n",
    "    m=len(sub)\n",
    "    while ssi!=m:\n",
    "        if si==len(a):\n",
    "            print('not subsequence')\n",
    "            return\n",
    "            \n",
    "        if a[si]==sub[ssi]:\n",
    "            ssi+=1\n",
    "        si+=1\n",
    "    print('yes, a subsequence')\n",
    "is_subseq(a,sub)      \n",
    "        "
   ]
  },
  {
   "cell_type": "code",
   "execution_count": 38,
   "metadata": {},
   "outputs": [
    {
     "name": "stdout",
     "output_type": "stream",
     "text": [
      "False\n"
     ]
    }
   ],
   "source": [
    "#anagram check\n",
    "a='abcbaddf'\n",
    "b='abcbaddg'\n",
    "def is_anagram(a,b):\n",
    "    if len(a)!=len(b):\n",
    "        print(False)\n",
    "        return\n",
    "    hasha={}\n",
    "    hashb={}\n",
    "    for i in a:\n",
    "        if i not in hasha:\n",
    "            hasha[i]=1\n",
    "        else:\n",
    "            hasha[i]+=1\n",
    "    for i in b:\n",
    "        if i not in hashb:\n",
    "            hashb[i]=1\n",
    "        else:\n",
    "            hashb[i]+=1\n",
    "    for j in hasha.keys():\n",
    "        try:\n",
    "            if hasha[j]!=hashb[j]:\n",
    "                print(False)\n",
    "                return\n",
    "        except:\n",
    "            print(False)\n",
    "            return\n",
    "    print(True)\n",
    "    \n",
    "    \n",
    "is_anagram(a,b)    \n",
    "        \n",
    "    \n",
    "        \n",
    "        "
   ]
  },
  {
   "cell_type": "code",
   "execution_count": 49,
   "metadata": {},
   "outputs": [
    {
     "name": "stdout",
     "output_type": "stream",
     "text": [
      "-1\n"
     ]
    }
   ],
   "source": [
    "#leftmost repeating character\n",
    "a='abcdf'\n",
    "def leftmostrep(a):\n",
    "    hasha={}\n",
    "    for i in a:\n",
    "        if i in hasha:\n",
    "            hasha[i]+=1\n",
    "            \n",
    "          \n",
    "        else:\n",
    "            hasha[i]=1\n",
    "    for i in hasha.keys():\n",
    "        if hasha[i]>1:\n",
    "            print(a.index(i))\n",
    "            return\n",
    "    print(-1)\n",
    "    \n",
    "    \n",
    "        \n",
    "leftmostrep(a)        "
   ]
  },
  {
   "cell_type": "code",
   "execution_count": null,
   "metadata": {},
   "outputs": [],
   "source": []
  }
 ],
 "metadata": {
  "kernelspec": {
   "display_name": "Python 3.8.1 64-bit",
   "language": "python",
   "name": "python38164bitc1a2774186c6462daebb9f0636350920"
  },
  "language_info": {
   "codemirror_mode": {
    "name": "ipython",
    "version": 3
   },
   "file_extension": ".py",
   "mimetype": "text/x-python",
   "name": "python",
   "nbconvert_exporter": "python",
   "pygments_lexer": "ipython3",
   "version": "3.8.1"
  }
 },
 "nbformat": 4,
 "nbformat_minor": 2
}
